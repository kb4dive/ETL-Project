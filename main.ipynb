{
 "cells": [
  {
   "cell_type": "code",
   "execution_count": 1,
   "metadata": {},
   "outputs": [],
   "source": [
    "# Load libraries with aliases\n",
    "import pandas as pd\n",
    "from sqlalchemy import create_engine"
   ]
  },
  {
   "cell_type": "code",
   "execution_count": 2,
   "metadata": {},
   "outputs": [
    {
     "data": {
      "text/html": [
       "<div>\n",
       "<style scoped>\n",
       "    .dataframe tbody tr th:only-of-type {\n",
       "        vertical-align: middle;\n",
       "    }\n",
       "\n",
       "    .dataframe tbody tr th {\n",
       "        vertical-align: top;\n",
       "    }\n",
       "\n",
       "    .dataframe thead th {\n",
       "        text-align: right;\n",
       "    }\n",
       "</style>\n",
       "<table border=\"1\" class=\"dataframe\">\n",
       "  <thead>\n",
       "    <tr style=\"text-align: right;\">\n",
       "      <th></th>\n",
       "      <th>Country</th>\n",
       "      <th>Code</th>\n",
       "    </tr>\n",
       "  </thead>\n",
       "  <tbody>\n",
       "    <tr>\n",
       "      <th>0</th>\n",
       "      <td>Afghanistan</td>\n",
       "      <td>AFG</td>\n",
       "    </tr>\n",
       "    <tr>\n",
       "      <th>1</th>\n",
       "      <td>Albania</td>\n",
       "      <td>ALB</td>\n",
       "    </tr>\n",
       "    <tr>\n",
       "      <th>2</th>\n",
       "      <td>Algeria</td>\n",
       "      <td>DZA</td>\n",
       "    </tr>\n",
       "  </tbody>\n",
       "</table>\n",
       "</div>"
      ],
      "text/plain": [
       "       Country Code\n",
       "0  Afghanistan  AFG\n",
       "1      Albania  ALB\n",
       "2      Algeria  DZA"
      ]
     },
     "execution_count": 2,
     "metadata": {},
     "output_type": "execute_result"
    }
   ],
   "source": [
    "# Transform CountryCode.csv\n",
    "dfCountryCode = pd.read_csv('Resources/CountryCode.csv')\n",
    "dfCountryCode = dfCountryCode.drop(columns=['ISO2','Top Level Domain','FIPS','ISO Numeric','GeoNameID','E164','Phone Code','Continent','Capital','Time Zone in Capital','Currency','Language Codes','Languages','Area KM2','Internet Hosts','Internet Users','Phones (Mobile)','Phones (Landline)','GDP'])\n",
    "dfCountryCode = dfCountryCode.rename(columns={'Country Name':'Country','ISO3':'Code'})\n",
    "dfCountryCode.to_csv(r'C:\\Development\\GitHub\\Repositories\\UA_PHX_Data_Analytics_BootCamp\\Projects\\Project2\\Resources\\CleanCountryCode.csv', header=True, index=None)\n",
    "dfCountryCode.head(3)"
   ]
  },
  {
   "cell_type": "code",
   "execution_count": 3,
   "metadata": {},
   "outputs": [
    {
     "data": {
      "text/html": [
       "<div>\n",
       "<style scoped>\n",
       "    .dataframe tbody tr th:only-of-type {\n",
       "        vertical-align: middle;\n",
       "    }\n",
       "\n",
       "    .dataframe tbody tr th {\n",
       "        vertical-align: top;\n",
       "    }\n",
       "\n",
       "    .dataframe thead th {\n",
       "        text-align: right;\n",
       "    }\n",
       "</style>\n",
       "<table border=\"1\" class=\"dataframe\">\n",
       "  <thead>\n",
       "    <tr style=\"text-align: right;\">\n",
       "      <th></th>\n",
       "      <th>Country</th>\n",
       "      <th>Population</th>\n",
       "      <th>SexRatio</th>\n",
       "      <th>EmploymentPct</th>\n",
       "      <th>UnemploymentPct</th>\n",
       "    </tr>\n",
       "  </thead>\n",
       "  <tbody>\n",
       "    <tr>\n",
       "      <th>0</th>\n",
       "      <td>Afghanistan</td>\n",
       "      <td>35530</td>\n",
       "      <td>106.3</td>\n",
       "      <td>10</td>\n",
       "      <td>8.6</td>\n",
       "    </tr>\n",
       "    <tr>\n",
       "      <th>1</th>\n",
       "      <td>Albania</td>\n",
       "      <td>2930</td>\n",
       "      <td>101.9</td>\n",
       "      <td>18.3</td>\n",
       "      <td>15.8</td>\n",
       "    </tr>\n",
       "    <tr>\n",
       "      <th>2</th>\n",
       "      <td>Algeria</td>\n",
       "      <td>41318</td>\n",
       "      <td>102.0</td>\n",
       "      <td>34.5</td>\n",
       "      <td>11.4</td>\n",
       "    </tr>\n",
       "  </tbody>\n",
       "</table>\n",
       "</div>"
      ],
      "text/plain": [
       "       Country  Population  SexRatio EmploymentPct UnemploymentPct\n",
       "0  Afghanistan       35530     106.3            10             8.6\n",
       "1      Albania        2930     101.9          18.3            15.8\n",
       "2      Algeria       41318     102.0          34.5            11.4"
      ]
     },
     "execution_count": 3,
     "metadata": {},
     "output_type": "execute_result"
    }
   ],
   "source": [
    "# Transform CountryProfileVariables dataframe\n",
    "dfCountryProfileVariables = pd.read_csv('Resources/CountryProfileVariables.csv')\n",
    "dfCountryProfileVariables = dfCountryProfileVariables.drop(columns=['Region','Surface area (km2)','Population density (per km2, 2017)','GDP: Gross domestic product (million current US$)','GDP growth rate (annual %, const. 2005 prices)','GDP per capita (current US$)','Economy: Agriculture (% of GVA)','Economy: Industry (% of GVA)','Economy: Services and other activity (% of GVA)','Employment: Agriculture (% of employed)','Employment: Services (% of employed)','Labour force participation (female/male pop. %)','Agricultural production index (2004-2006=100)','Food production index (2004-2006=100)','International trade: Exports (million US$)','International trade: Imports (million US$)','International trade: Balance (million US$)','Balance of payments, current account (million US$)','Population growth rate (average annual %)','Urban population (% of total population)','Urban population growth rate (average annual %)','Fertility rate, total (live births per woman)','Life expectancy at birth (females/males, years)','Population age distribution (0-14 / 60+ years, %)','International migrant stock (000/% of total pop.)','Refugees and others of concern to UNHCR (in thousands)','Infant mortality rate (per 1000 live births','Health: Total expenditure (% of GDP)','Health: Physicians (per 1000 pop.)','Education: Government expenditure (% of GDP)','Education: Primary gross enrol. ratio (f/m per 100 pop.)','Education: Secondary gross enrol. ratio (f/m per 100 pop.)','Education: Tertiary gross enrol. ratio (f/m per 100 pop.)','Seats held by women in national parliaments %','Mobile-cellular subscriptions (per 100 inhabitants)','Mobile-cellular subscriptions (per 100 inhabitants).1','Individuals using the Internet (per 100 inhabitants)','Threatened species (number)','Forested area (% of land area)','CO2 emission estimates (million tons/tons per capita)','Energy production, primary (Petajoules)','Energy supply per capita (Gigajoules)','Pop. using improved drinking water (urban/rural, %)','Pop. using improved sanitation facilities (urban/rural, %)','Net Official Development Assist. received (% of GNI)'])\n",
    "dfCountryProfileVariables = dfCountryProfileVariables.rename(columns={'country':'Country','Population in thousands (2017)':'Population','Sex ratio (m per 100 f, 2017)':'SexRatio','Employment: Industry (% of employed)':'EmploymentPct','Unemployment (% of labour force)':'UnemploymentPct'})\n",
    "dfCountryProfileVariables.to_csv(r'C:\\Development\\GitHub\\Repositories\\UA_PHX_Data_Analytics_BootCamp\\Projects\\Project2\\Resources\\CleanCountryProfileVariables.csv', header=True, index=None)\n",
    "dfCountryProfileVariables.head(3)"
   ]
  },
  {
   "cell_type": "code",
   "execution_count": 4,
   "metadata": {},
   "outputs": [
    {
     "data": {
      "text/html": [
       "<div>\n",
       "<style scoped>\n",
       "    .dataframe tbody tr th:only-of-type {\n",
       "        vertical-align: middle;\n",
       "    }\n",
       "\n",
       "    .dataframe tbody tr th {\n",
       "        vertical-align: top;\n",
       "    }\n",
       "\n",
       "    .dataframe thead th {\n",
       "        text-align: right;\n",
       "    }\n",
       "</style>\n",
       "<table border=\"1\" class=\"dataframe\">\n",
       "  <thead>\n",
       "    <tr style=\"text-align: right;\">\n",
       "      <th></th>\n",
       "      <th>Country</th>\n",
       "      <th>HappinessScore</th>\n",
       "      <th>HDI</th>\n",
       "      <th>GDP_PerCapita</th>\n",
       "      <th>Beer_PerCapita</th>\n",
       "      <th>Spirit_PerCapita</th>\n",
       "      <th>Wine_PerCapita</th>\n",
       "    </tr>\n",
       "  </thead>\n",
       "  <tbody>\n",
       "    <tr>\n",
       "      <th>0</th>\n",
       "      <td>Denmark</td>\n",
       "      <td>7.526</td>\n",
       "      <td>928</td>\n",
       "      <td>53.579</td>\n",
       "      <td>224</td>\n",
       "      <td>81</td>\n",
       "      <td>278</td>\n",
       "    </tr>\n",
       "    <tr>\n",
       "      <th>1</th>\n",
       "      <td>Switzerland</td>\n",
       "      <td>7.509</td>\n",
       "      <td>943</td>\n",
       "      <td>79.866</td>\n",
       "      <td>185</td>\n",
       "      <td>100</td>\n",
       "      <td>280</td>\n",
       "    </tr>\n",
       "    <tr>\n",
       "      <th>2</th>\n",
       "      <td>Iceland</td>\n",
       "      <td>7.501</td>\n",
       "      <td>933</td>\n",
       "      <td>60.530</td>\n",
       "      <td>233</td>\n",
       "      <td>61</td>\n",
       "      <td>78</td>\n",
       "    </tr>\n",
       "  </tbody>\n",
       "</table>\n",
       "</div>"
      ],
      "text/plain": [
       "       Country  HappinessScore  HDI  GDP_PerCapita  Beer_PerCapita  \\\n",
       "0      Denmark           7.526  928         53.579             224   \n",
       "1  Switzerland           7.509  943         79.866             185   \n",
       "2      Iceland           7.501  933         60.530             233   \n",
       "\n",
       "   Spirit_PerCapita  Wine_PerCapita  \n",
       "0                81             278  \n",
       "1               100             280  \n",
       "2                61              78  "
      ]
     },
     "execution_count": 4,
     "metadata": {},
     "output_type": "execute_result"
    }
   ],
   "source": [
    "# Transform HappinessAlcoholConsumption dataframe\n",
    "dfHappinessAlcoholConsumption = pd.read_csv('Resources/HappinessAlcoholConsumption.csv')\n",
    "dfHappinessAlcoholConsumption = dfHappinessAlcoholConsumption.drop(columns=['Region','Hemisphere'])\n",
    "dfHappinessAlcoholConsumption.to_csv(r'C:\\Development\\GitHub\\Repositories\\UA_PHX_Data_Analytics_BootCamp\\Projects\\Project2\\Resources\\CleanHappinessAlcoholConsumption.csv', header=True, index=None)\n",
    "dfHappinessAlcoholConsumption.head(3)"
   ]
  },
  {
   "cell_type": "code",
   "execution_count": 5,
   "metadata": {},
   "outputs": [
    {
     "data": {
      "text/html": [
       "<div>\n",
       "<style scoped>\n",
       "    .dataframe tbody tr th:only-of-type {\n",
       "        vertical-align: middle;\n",
       "    }\n",
       "\n",
       "    .dataframe tbody tr th {\n",
       "        vertical-align: top;\n",
       "    }\n",
       "\n",
       "    .dataframe thead th {\n",
       "        text-align: right;\n",
       "    }\n",
       "</style>\n",
       "<table border=\"1\" class=\"dataframe\">\n",
       "  <thead>\n",
       "    <tr style=\"text-align: right;\">\n",
       "      <th></th>\n",
       "      <th>Country</th>\n",
       "      <th>Year</th>\n",
       "      <th>Sex</th>\n",
       "      <th>Age</th>\n",
       "      <th>Suicides_No</th>\n",
       "      <th>Population</th>\n",
       "      <th>Suicides_100k_pop</th>\n",
       "      <th>GDP_For_Year</th>\n",
       "      <th>GDP_Per_Capita</th>\n",
       "    </tr>\n",
       "  </thead>\n",
       "  <tbody>\n",
       "    <tr>\n",
       "      <th>0</th>\n",
       "      <td>Albania</td>\n",
       "      <td>1987</td>\n",
       "      <td>male</td>\n",
       "      <td>15-24 years</td>\n",
       "      <td>21</td>\n",
       "      <td>312900</td>\n",
       "      <td>6.71</td>\n",
       "      <td>2,156,624,900</td>\n",
       "      <td>796</td>\n",
       "    </tr>\n",
       "    <tr>\n",
       "      <th>1</th>\n",
       "      <td>Albania</td>\n",
       "      <td>1987</td>\n",
       "      <td>male</td>\n",
       "      <td>35-54 years</td>\n",
       "      <td>16</td>\n",
       "      <td>308000</td>\n",
       "      <td>5.19</td>\n",
       "      <td>2,156,624,900</td>\n",
       "      <td>796</td>\n",
       "    </tr>\n",
       "    <tr>\n",
       "      <th>2</th>\n",
       "      <td>Albania</td>\n",
       "      <td>1987</td>\n",
       "      <td>female</td>\n",
       "      <td>15-24 years</td>\n",
       "      <td>14</td>\n",
       "      <td>289700</td>\n",
       "      <td>4.83</td>\n",
       "      <td>2,156,624,900</td>\n",
       "      <td>796</td>\n",
       "    </tr>\n",
       "  </tbody>\n",
       "</table>\n",
       "</div>"
      ],
      "text/plain": [
       "   Country  Year     Sex          Age  Suicides_No  Population  \\\n",
       "0  Albania  1987    male  15-24 years           21      312900   \n",
       "1  Albania  1987    male  35-54 years           16      308000   \n",
       "2  Albania  1987  female  15-24 years           14      289700   \n",
       "\n",
       "   Suicides_100k_pop   GDP_For_Year  GDP_Per_Capita  \n",
       "0               6.71  2,156,624,900             796  \n",
       "1               5.19  2,156,624,900             796  \n",
       "2               4.83  2,156,624,900             796  "
      ]
     },
     "execution_count": 5,
     "metadata": {},
     "output_type": "execute_result"
    }
   ],
   "source": [
    "# Transform SuicideByCountry dataframe\n",
    "dfSuicideByCountry = pd.read_csv('Resources/SuicideByCountry.csv')\n",
    "dfSuicideByCountry = dfSuicideByCountry.drop(columns=['country-year','HDI for year','generation'])\n",
    "dfSuicideByCountry = dfSuicideByCountry.rename(columns={'country':'Country','year':'Year','sex':'Sex','age':'Age','suicides_no':'Suicides_No','population':'Population','suicides/100k pop':'Suicides_100k_pop',' gdp_for_year ($) ':'GDP_For_Year','gdp_per_capita ($)':'GDP_Per_Capita'})\n",
    "dfSuicideByCountry.to_csv(r'C:\\Development\\GitHub\\Repositories\\UA_PHX_Data_Analytics_BootCamp\\Projects\\Project2\\Resources\\CleanSuicideByCountry.csv', header=True, index=None)\n",
    "dfSuicideByCountry.head(3)"
   ]
  },
  {
   "cell_type": "code",
   "execution_count": 6,
   "metadata": {},
   "outputs": [
    {
     "data": {
      "text/plain": [
       "['Employees', 'Salaries', 'Titles', 'Departments', 'Dept_Manager', 'Dept_Emp']"
      ]
     },
     "execution_count": 6,
     "metadata": {},
     "output_type": "execute_result"
    }
   ],
   "source": [
    "dbConnection = \"postgres:postgres@localhost:5432/EmployeeSql\"\n",
    "dbEngine = create_engine(f'postgresql://{dbConnection}')\n",
    "dbEngine.table_names()"
   ]
  }
 ],
 "metadata": {
  "kernelspec": {
   "display_name": "Python 3",
   "language": "python",
   "name": "python3"
  },
  "language_info": {
   "codemirror_mode": {
    "name": "ipython",
    "version": 3
   },
   "file_extension": ".py",
   "mimetype": "text/x-python",
   "name": "python",
   "nbconvert_exporter": "python",
   "pygments_lexer": "ipython3",
   "version": "3.7.3"
  }
 },
 "nbformat": 4,
 "nbformat_minor": 2
}
